{
  "cells": [
    {
      "cell_type": "markdown",
      "metadata": {
        "id": "view-in-github",
        "colab_type": "text"
      },
      "source": [
        "<a href=\"https://colab.research.google.com/github/B1501/Charitha_INFO5502_Spring2022/blob/main/lab_assignment_02.ipynb\" target=\"_parent\"><img src=\"https://colab.research.google.com/assets/colab-badge.svg\" alt=\"Open In Colab\"/></a>"
      ]
    },
    {
      "cell_type": "markdown",
      "metadata": {
        "id": "Ryk8D1Q4Wsrp"
      },
      "source": [
        "# **The second Lab-assignment (02/04/2022, 50 points in total)**"
      ]
    },
    {
      "cell_type": "markdown",
      "metadata": {
        "id": "90_NR8c5XGWc"
      },
      "source": [
        "# Question 1\n",
        "\n",
        "(5 points). Write a Python program to generate 12 random numbers between 1 and 100. Sort the list of numbers in ascending order and print it out. Sort the list of numbers in descending order and print it out. Calculate the average for the group and print it out."
      ]
    },
    {
      "cell_type": "code",
      "execution_count": 3,
      "metadata": {
        "id": "5QX6bJjGWXY9",
        "colab": {
          "base_uri": "https://localhost:8080/"
        },
        "outputId": "80f3d335-5832-4134-fa16-5c041fcb7d01"
      },
      "outputs": [
        {
          "output_type": "stream",
          "name": "stdout",
          "text": [
            "list of random numbers: [24, 55, 75, 23, 12, 51, 95, 72, 49, 89, 27, 88]\n",
            "ascending order: [12, 23, 24, 27, 49, 51, 55, 72, 75, 88, 89, 95]\n",
            "descending order: [95, 89, 88, 75, 72, 55, 51, 49, 27, 24, 23, 12]\n",
            "average: 55.0\n"
          ]
        }
      ],
      "source": [
        "# Your code here\n",
        "import random\n",
        "\n",
        "store_ran = random.sample(range(0, 100), 12)\n",
        "#storing the random numbers in the store_random_copy variable\n",
        "store_random_copy = store_ran\n",
        "\n",
        "ascen_random=[]\n",
        "descen_random=[]\n",
        "#printing the random values\n",
        "print(\"list of random numbers: \"+str(store_ran))\n",
        "#logic to print the numbers in ascending we used min function\n",
        "for s in range(len(store_random_copy)):\n",
        "    min_num=min(store_ran)\n",
        "    ascen_random.append(min_num)\n",
        "    store_ran.remove(min_num)\n",
        "#logic to print the numbers in descending\n",
        "for s in range(len(ascen_random)):\n",
        "    k=ascen_random[-(s+1)]\n",
        "    descen_random.append(k)\n",
        "avg_ascen_random=sum(ascen_random)/len(ascen_random)\n",
        "\n",
        "print(\"ascending order: \"+str(ascen_random))\n",
        "print(\"descending order: \"+str(descen_random))\n",
        "print(\"average: \"+str(avg_ascen_random))\n",
        "  \n",
        "\n",
        "\n",
        "\n",
        "\n"
      ]
    },
    {
      "cell_type": "markdown",
      "metadata": {
        "id": "1F_PZdH9Sh49"
      },
      "source": [
        "# Question 2\n",
        "(20 points). Write a program that will do the following string formatting tasks:\n",
        "\n",
        "(1) Ask the user to enter two sentences.\n",
        "\n",
        "(2) Make each sentence into a list. Each element in the list should correspond to a word in the sentence. For example, if the sentence is \"Alas! Am I alive? This is my first python program\", the program should print out ['Alas, '!', 'Am', 'I', 'alive, '?', 'This', 'is', 'my', 'first', 'python', 'program'].\n",
        "\n",
        "(3) Compare the two sentences. Print out a list of words that occur in both sentences.\n",
        "\n",
        "(4) Remove any punctuation from the sentence and print it back out. It should remove at least the following characters, but it can remove more: period(“.”), comma (“,”), semicolon (“;”), and colon (“:”)\n",
        "\n",
        "(5) Count the number of vowels in the sentences. Print out each vowel and the number of times it appears in the sentences, such as: a:2, e:1, i:0, etc"
      ]
    },
    {
      "cell_type": "code",
      "execution_count": null,
      "metadata": {
        "id": "Y0oOSlsOS0cq",
        "colab": {
          "base_uri": "https://localhost:8080/"
        },
        "outputId": "b8cbd138-62c5-4e65-f3d7-2950b038e837"
      },
      "outputs": [
        {
          "name": "stdout",
          "output_type": "stream",
          "text": [
            "\n"
          ]
        }
      ],
      "source": [
        "# Your code here\n",
        "s1=input()\n",
        "s2=input()\n",
        "l1=s1.split()\n",
        "l2=s2.split()\n",
        "l3=set({})\n",
        "a1=e1=i1=o1=u1=0\n",
        "a2=e2=i2=o2=u2=0\n",
        "#storing list of words in a sentence\n",
        "print(l1+l2)\n",
        "#Finding Common words between two sentences\n",
        "for i in range(0,len(l1)):\n",
        "    for j in range(0,len(l2)):\n",
        "        if l1[i]==l2[j]:\n",
        "         l3.add(l1[i])\n",
        "         break\n",
        "print(list(l3))  \n",
        "s3=\"\"\n",
        "#removing puncuations from sentences and counting vowels \n",
        "k='''%^&*_};)-[:'\"\\,<>./?@#!(]{$~'''\n",
        "for ch in s1:\n",
        "#counting vowels in a each sentence\n",
        "    if ch=='a' or ch=='e' or ch=='i' or ch=='o' or ch=='u':\n",
        "        if ch=='a':\n",
        "            a1=a1+1\n",
        "        if ch=='e':\n",
        "            e1=e1+1 \n",
        "        if ch=='i':\n",
        "            i1=i1+1\n",
        "        if ch=='o':\n",
        "            o1=o1+1 \n",
        "        if ch=='u':\n",
        "            u1=u1+1\n",
        "#removing punchuations from sentences\n",
        "    if ch in k:\n",
        "        continue\n",
        "    s3=s3+ch\n",
        "s4=\"\"\n",
        "for ch in s2:\n",
        "    if ch=='a' or ch=='e' or ch=='i' or ch=='o' or ch=='u':\n",
        "        if ch=='a':\n",
        "            a2=a2+1\n",
        "        if ch=='e':\n",
        "            e2=e2+1 \n",
        "        if ch=='i':\n",
        "            i2=i2+1 \n",
        "        if ch=='o':\n",
        "            o2=o2+1 \n",
        "        if ch=='u':\n",
        "            u2=u2+1\n",
        "    if ch in k:\n",
        "        continue\n",
        "    s4=s4+ch\n",
        "print(s3)\n",
        "print(s4)\n",
        "#printing the vowels in each sentence\n",
        "print(\"vowels in sentence 1:\")\n",
        "print(\"a:\"+str(a1)+\" e:\"+str(e1)+\" i:\"+str(i1)+\" o:\"+str(o1)+\" u:\"+str(u1))\n",
        "print(\"vowels in sentence 2:\")\n",
        "print(\"a:\"+str(a2)+\" e:\"+str(e2)+\" i:\"+str(i2)+\" o:\"+str(o2)+\" u:\"+str(u2))\n",
        "\n",
        "\n",
        "\n",
        "\n",
        "\n",
        "\n"
      ]
    },
    {
      "cell_type": "markdown",
      "metadata": {
        "id": "CmFoI4jDS9nx"
      },
      "source": [
        "# Question 3 \n",
        "\n",
        "(5 points). The formula that describes the volume V of a sphere with radius r is the following:\n",
        "\n",
        "$ V=\\frac{4}{3}\\ast\\ \\pi\\ast\\ r^3 $\n",
        "\n",
        "Write a program to calculate the value of V when r is in the range of 1–10. Output the result in the following format:\n",
        "\n",
        "\tr\tV\n",
        "\t1\t…\n",
        "\t2\t…\n",
        "\t3\t…\n"
      ]
    },
    {
      "cell_type": "code",
      "execution_count": 5,
      "metadata": {
        "id": "pEyqeioAT95b",
        "colab": {
          "base_uri": "https://localhost:8080/"
        },
        "outputId": "85c72794-d78a-4efd-c89f-21cc0a84d495"
      },
      "outputs": [
        {
          "output_type": "stream",
          "name": "stdout",
          "text": [
            "r v\n",
            "1 4.1887902047863905\n",
            "2 33.510321638291124\n",
            "3 113.09733552923254\n",
            "4 268.082573106329\n",
            "5 523.5987755982989\n",
            "6 904.7786842338603\n",
            "7 1436.7550402417319\n",
            "8 2144.660584850632\n",
            "9 3053.6280592892786\n",
            "10 4188.790204786391\n"
          ]
        }
      ],
      "source": [
        "\n",
        "#importing math to calculate pi value\n",
        "import math\n",
        "print('r','v')\n",
        "for l in range(1,11):\n",
        "  #formula for calculating the volume of sphere\n",
        "  vol_of_sphere=(4/3)*math.pi*l**3\n",
        "  print(l,vol_of_sphere)\n",
        "\n",
        "\n",
        "\n",
        "\n"
      ]
    },
    {
      "cell_type": "markdown",
      "metadata": {
        "id": "z3tBE7E-Xn5X"
      },
      "source": [
        "# Question 4\n",
        "\n",
        "(20 points). In the field of Data Science, data is often formatted as a comma-delimited (CSV) file, where each line in a file corresponds to a field's value. Refer to Chapter 9 (p. 106) for more information on comma-delimited files. To answer this question, you will need to download the file [lab_assignment_02_denton_housing.csv](https://raw.githubusercontent.com/unt-iialab/info5502-spring2022/main/datasets/lab_assignment_02_denton_housing.csv) included with this assignment. The file [lab_assignment_02_denton_housing.csv](https://raw.githubusercontent.com/unt-iialab/info5502-spring2022/main/datasets/lab_assignment_02_denton_housing.csv) contains statistics about housing in the city of Denton from 2008 to 2014. Write a program to implement the following questions.\n",
        "\n",
        "(1) (10 pts) Calculate the difference in the number of Occupied Housing Units from year to year and print it. The difference must be calculated for the consecutive years such as 2008-2009, 2009-2010 etc. Finally, print the values in the ascending order.\n",
        "\n",
        "(2) (10 pts) For all the years, calculate the percentage of housing units which are vacant an occupied. Print the results in the following format:\n",
        "\n",
        "Year Vacant Housing Units Occupied Housing Units\n",
        "\n",
        "    2008  30%   70%                          \n",
        "\t2009 ----- -----\n",
        "\t2010 ----- -----\n",
        "    2011 ----- -----\n",
        "\t2012 ----- -----\n",
        "    2013 ----- -----\n",
        "\t2014 ----- -----\n",
        "  \n",
        "  \n",
        "\n",
        "(3) (10 pts) Calculate and print the valued and years in which the highest number of housing units were vacant and occupied. Print the results in the following format:  \n",
        "\n",
        "                              Year\tValue\n",
        "\tVacant Housing Units\t  -----   -----\n",
        "\tOccupied Housing Units\t-----   -----\n",
        "\n",
        "(4) (10 pts) Calculate the harmonic mean of the total housing units and print it out. You can find the information about harmonic mean here: https://ncalculators.com/statistics/harmonic-mean-calculator.htm"
      ]
    },
    {
      "cell_type": "code",
      "execution_count": null,
      "metadata": {
        "id": "lqGYuHBhcsRH"
      },
      "outputs": [],
      "source": [
        "# Your code here\n",
        "import numpy as np\n",
        "import pandas as pd\n",
        "data_housing=pd.read_csv(\"C:/Users/cherr/OneDrive/Documents/Desktop/INFO-5502/lab_assignment_02_denton_housing.csv\")\n",
        "data_housing\n",
        "\n",
        "field = data.loc[(data_housing[\"title_field\"]==\"Occupied Housing Units\") , [\"title_field\", 'value']]\n",
        "data_diff = [['2008-2009', 35916-36711],['2009-2010', 41007-35916],['2010-2011', 40704-41007],['2011-2012', 42108-40704],['2012-2013', 43673-42108],['2013-2014', 46295-43673]]  \n",
        "B = pd.DataFrame(data_diff, columns = ['Years', 'Diff_occupied_units'])\n",
        "occupied_units_by_diff = B.sort_values('Diff_occupied_units') \n",
        "\n",
        "print(occupied_units_by_diff)\n",
        "\n",
        "import statistics\n",
        "print(statistics.harmonic_mean(list(data_housing[data_housing['title_field'] == 'Total Housing Units'].value)))\n",
        "\n",
        "\n",
        "\n",
        "\n",
        "\n",
        "\n",
        "\n",
        "\n"
      ]
    },
    {
      "cell_type": "code",
      "source": [
        ""
      ],
      "metadata": {
        "id": "IqeIwJ1dCz3d"
      },
      "execution_count": null,
      "outputs": []
    }
  ],
  "metadata": {
    "colab": {
      "collapsed_sections": [],
      "name": "lab_assignment_02.ipynb",
      "provenance": [],
      "include_colab_link": true
    },
    "kernelspec": {
      "display_name": "Python 3",
      "language": "python",
      "name": "python3"
    },
    "language_info": {
      "codemirror_mode": {
        "name": "ipython",
        "version": 3
      },
      "file_extension": ".py",
      "mimetype": "text/x-python",
      "name": "python",
      "nbconvert_exporter": "python",
      "pygments_lexer": "ipython3",
      "version": "3.8.5"
    }
  },
  "nbformat": 4,
  "nbformat_minor": 0
}