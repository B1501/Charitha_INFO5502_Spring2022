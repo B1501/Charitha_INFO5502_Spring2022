{
  "cells": [
    {
      "cell_type": "markdown",
      "metadata": {
        "id": "view-in-github",
        "colab_type": "text"
      },
      "source": [
        "<a href=\"https://colab.research.google.com/github/B1501/Charitha_INFO5502_Spring2022/blob/main/lab_assignment_01_(1).ipynb\" target=\"_parent\"><img src=\"https://colab.research.google.com/assets/colab-badge.svg\" alt=\"Open In Colab\"/></a>"
      ]
    },
    {
      "cell_type": "markdown",
      "metadata": {
        "id": "DymRJbxDBCnf"
      },
      "source": [
        "# **The first Lab-assignment (01/25/2022, 50 points in total)**"
      ]
    },
    {
      "cell_type": "markdown",
      "metadata": {
        "id": "jJDe71iLB616"
      },
      "source": [
        "(1) Write a Python program to count the number of characters in a string. (5 points)\n",
        "\n",
        "Sample String : 'google.com', \n",
        "\n",
        "Expected Result : {'o': 3, 'g': 2, '.': 1, 'e': 1, 'l': 1, 'm': 1, 'c': 1}"
      ]
    },
    {
      "cell_type": "code",
      "execution_count": null,
      "metadata": {
        "id": "MtKskTzbCLaU"
      },
      "outputs": [],
      "source": [
        "#dynamically initialized the input\n",
        "pqr=input(\"enter the string\")\n",
        "abc=dict()\n",
        "#used for loop to print in a key value format \n",
        "for c in pqr:\n",
        "  if c in abc:\n",
        "    abc[c]=abc[c]+1\n",
        "  else:\n",
        "    abc[c]=1\n",
        "print(\"number of characters in a string:\",abc)\n",
        "   \n"
      ]
    },
    {
      "cell_type": "markdown",
      "metadata": {
        "id": "55W9AMdXCSpV"
      },
      "source": [
        "(2) Write a Python program to sum all the items in a list. (5 points)"
      ]
    },
    {
      "cell_type": "markdown",
      "source": [
        ""
      ],
      "metadata": {
        "id": "w3JK-e_LcVfY"
      }
    },
    {
      "cell_type": "code",
      "execution_count": null,
      "metadata": {
        "id": "I57NXsauCec2"
      },
      "outputs": [],
      "source": [
        "# initialized the list items\n",
        "lis=[1,5,3,7,8]\n",
        "s=0\n",
        "#Logic to print sum of the elements in a list using for loop\n",
        "for a in lis:\n",
        "  #logic to add all the values \n",
        "  s+= a\n",
        "print(\"sum of list: \",s)\n",
        "\n"
      ]
    },
    {
      "cell_type": "markdown",
      "metadata": {
        "id": "4ulBZ6yhCi9F"
      },
      "source": [
        "(3) Write a Python program to get a string from a given string where all occurrences of its first char have been changed to '\\$', except the first char itself. (5 points)\n",
        "\n",
        "Sample String : 'restart', \n",
        "\n",
        "Expected Result : 'resta\\$t'"
      ]
    },
    {
      "cell_type": "code",
      "source": [
        "#use def function to replace the character\n",
        "def abc(p):\n",
        "  char = p[0]\n",
        "  lengt = len(p)\n",
        "  #using replace function for the specific character\n",
        "  p = p.replace(char, '$')\n",
        "  p = char + p[1:]\n",
        "\n",
        "  return p\n",
        "\n",
        "print(abc('restart'))"
      ],
      "metadata": {
        "id": "slP3M32fbYXm"
      },
      "execution_count": null,
      "outputs": []
    },
    {
      "cell_type": "markdown",
      "metadata": {
        "id": "_bIP7s1MCzue"
      },
      "source": [
        "(4) Write a program with python which could accept two parameter a and b to calculate and output the result of S, where \n",
        "\n",
        "$\\ S=3.14*(1+a/b)^3$ (5 points)\n",
        "\n"
      ]
    },
    {
      "cell_type": "code",
      "execution_count": null,
      "metadata": {
        "id": "w79QilHXD3Mg"
      },
      "outputs": [],
      "source": [
        "#using import for math function\n",
        "import math\n",
        "#directly initializing a and b values\n",
        "a=8\n",
        "b=5\n",
        "S=math.pi*(1+a/b)**3\n",
        "print(\"output of res:\",S)\n"
      ]
    },
    {
      "cell_type": "markdown",
      "metadata": {
        "id": "xCa2bK9aD4Q3"
      },
      "source": [
        "(5) Write a Python program to concatenate following dictionaries to create a new one. (5 points)\n",
        "\n",
        "Sample Dictionary : dic1={1:10, 2:20}, dic2={3:30, 4:40}, dic3={5:50,6:60}, \n",
        "\n",
        "Expected Result : {1: 10, 2: 20, 3: 30, 4: 40, 5: 50, 6: 60}\n"
      ]
    },
    {
      "cell_type": "code",
      "execution_count": null,
      "metadata": {
        "id": "_z4aLqAbEET1"
      },
      "outputs": [],
      "source": [
        "#initializing the sample dictionary\n",
        "dic1={1:10,2:20}\n",
        "dic2={3:30,4:40}\n",
        "dic3={5:50,6:60}\n",
        "\n",
        "dic1=list(dic1. items())\n",
        "dic2=list(dic2. items())\n",
        "dic3=list(dic3. items())\n",
        "\n",
        "# initializing the key value pairs and using for loop to dic2,dic3\n",
        "k=[]\n",
        "v=[]\n",
        "for a in range(len(dic2)):\n",
        "    dic1.append(dic2[a])\n",
        "for a in range(len(dic3)):\n",
        "    dic1.append(dic3[a])\n",
        "# using key value pairs appending the dic1\n",
        "for a in range(len(dic1)):\n",
        "    b=dic1[a]\n",
        "    k.append(b[0])\n",
        "    v.append(b[1])\n",
        "\n",
        "f = dict(zip(k, v))\n",
        "#printing the ouput for the above logic\n",
        "print(\"concatenate of dictionary to new one:\",f)\n"
      ]
    },
    {
      "cell_type": "markdown",
      "metadata": {
        "id": "0v48Vqa7FrQh"
      },
      "source": [
        "(6) Write a Python program to check whether an element exists within a tuple. (5 points)"
      ]
    },
    {
      "cell_type": "code",
      "execution_count": null,
      "metadata": {
        "id": "7WEmgq-DF2P1"
      },
      "outputs": [],
      "source": [
        "#initializing the elements in a variable(my_tup)\n",
        "my_tup=(\"bus\",\"rat\", \"road\")\n",
        "Word_element=\"bus\"\n",
        "flag=0\n",
        "# using for and if logic it shows element exists or not within a tuple\n",
        "for u in range(len(my_tup)):\n",
        "  if my_tup[u]==word:\n",
        "    flag=1\n",
        "if flag==1:\n",
        "  #printing the word  says present if it exists within the tuple\n",
        "  print(Word_element+\" present\")\n",
        "else:\n",
        "  #printing the word says not present it is not exists within the tuple\n",
        "  print(Word_element+\" not present\")"
      ]
    },
    {
      "cell_type": "markdown",
      "metadata": {
        "id": "vD5PYLMuGga_"
      },
      "source": [
        "(7) Write a Python program to find maximum and the minimum value in a set. (5 points)"
      ]
    },
    {
      "cell_type": "code",
      "execution_count": null,
      "metadata": {
        "id": "t0D5kdJUGjjw"
      },
      "outputs": [],
      "source": [
        "#storing the values directly in a variable 's'\n",
        "s ={100,20,3,4,5,6}\n",
        "# logic for maximum and minimum value and printing the values\n",
        "max_value=max(s)\n",
        "min_value=min(s)\n",
        "#printing the min and max value in a set using print function\n",
        "print(\"maximum value in a set: \"+str(max_value))\n",
        "print(\"minimum value in a set: \"+str(min_value))\n",
        "\n"
      ]
    },
    {
      "cell_type": "markdown",
      "metadata": {
        "id": "uHkd-y5VhVWC"
      },
      "source": [
        "(8) Write a Python program to randomly divide the students in this class into six groups for term projects, each group should have at least 4 students but no more than 6 students (including 6). Here is the students list: (5 points)\n",
        "\n",
        "studnet_list = ['ja0964','sa1198','sb1357','vb0218','sc1229','kg0569','kg0470','sg1297','bg0320','fh0141','jl1252','sk1386',\n",
        "           'ak0956','sk1390','sk1458','sk1313','ak0934','vm0377','nm0618','sm1640','sm1907','gn0108','pr0353','dr0609','ms1500','aos0040','ds0814', 'av0659','nv0234','hy0232']"
      ]
    },
    {
      "cell_type": "code",
      "execution_count": null,
      "metadata": {
        "id": "3iGbmcOBhTwy"
      },
      "outputs": [],
      "source": [
        "# using import package for random \n",
        "import random\n",
        "#slicing the range function from itertools\n",
        "from itertools import islice\n",
        "\n",
        "studnet_list = ['ja0964','sa1198','sb1357','vb0218','sc1229','kg0569','kg0470','sg1297',\n",
        " 'bg0320','fh0141','jl1252','sk1386', 'ak0956','sk1390','sk1458','sk1313',\n",
        " 'ak0934','vm0377','nm0618','sm1640','sm1907','gn0108','pr0353','dr0609',\n",
        " 'ms1500','aos0040','ds0814', 'av0659','nv0234','hy0232']\n",
        "#initializing the variable group for studnet list\n",
        "group=studnet_list\n",
        "\n",
        "random.shuffle(group)\n",
        "#creating the studnet is into six groups\n",
        "avg=len(group)/6\n",
        "avg=int(avg)\n",
        "# using function for dividing the groups \n",
        "def breaking(fn_group, fn_avg):      \n",
        "    for u in range(0, len(fn_group), fn_avg): \n",
        "        yield fn_group[u:u + fn_avg]\n",
        "output_lst = list(breaking(group, avg))\n",
        "grp=\" \"\n",
        "\n",
        "for u in range(len(output_lst)):\n",
        "    grp=grp+\"group\"+str(u+1)+':'+str(output_lst[u])+\"  \"\n",
        "\n",
        "print(\"group of members:\",grp)"
      ]
    },
    {
      "cell_type": "markdown",
      "metadata": {
        "id": "zH_0nvTVhQo4"
      },
      "source": [
        "(9) Write a Python program to find the duplicate elements in a given array of integers. Return -1 If there are no such elements. (5 points)"
      ]
    },
    {
      "cell_type": "code",
      "execution_count": null,
      "metadata": {
        "id": "EnACt7JmhQo5"
      },
      "outputs": [],
      "source": [
        "# write your answer here\n",
        "input_int = [1,2,3,1,2,3]\n",
        "# creating empty duplicate value\n",
        "dupli=[]\n",
        "#using for loop to find if there is duplicate value in an array\n",
        "for a in range(0,len(input_int)):\n",
        "  for b in range(a+1,len(input_int)):\n",
        "    if input_int[a]==input_int[b]:\n",
        "      dupli.append(input_int[a])\n",
        "res=\"\"\n",
        "for a in range(len(dupli)):\n",
        "  res=res+\" \"+str(dupli[a])\n",
        "#printing the values which are repeated in the array\n",
        "print(\"repeated values in a given array \"+res)"
      ]
    },
    {
      "cell_type": "markdown",
      "metadata": {
        "id": "pOOCkghwhQo6"
      },
      "source": [
        "(10) Write a Python program to select all the Sundays of a specified year. (5 extra points)"
      ]
    },
    {
      "cell_type": "code",
      "execution_count": null,
      "metadata": {
        "id": "IvrjC8-VhQo6"
      },
      "outputs": [],
      "source": [
        "# write your answer here\n",
        "# importing the module pandas\n",
        "import pandas as pd\n",
        "  \n",
        "# targeting the year and days according to the user\n",
        "y = \"2022\"\n",
        "d = \"Sun\"\n",
        "  \n",
        "# writing the parameters for the below onces\n",
        "start = y + \"-01-01\"\n",
        "periods = 52\n",
        "freq = \"W-\" + d\n",
        "  \n",
        "# fetching the days given according to the question to write logic and print sundays\n",
        "days_sunday = pd.Series(pd.date_range(start = start,\n",
        "                               periods = periods,\n",
        "                               freq = freq))\n",
        "  \n",
        "# printing the sundays from the given question                        \n",
        "print(\"All sundays in 2022 are:\",days_sunday)\n"
      ]
    },
    {
      "cell_type": "markdown",
      "source": [
        ""
      ],
      "metadata": {
        "id": "VImjg_e_Otsp"
      }
    }
  ],
  "metadata": {
    "colab": {
      "collapsed_sections": [],
      "name": "lab_assignment_01 (1).ipynb",
      "provenance": [],
      "include_colab_link": true
    },
    "kernelspec": {
      "display_name": "Python 3",
      "language": "python",
      "name": "python3"
    },
    "language_info": {
      "codemirror_mode": {
        "name": "ipython",
        "version": 3
      },
      "file_extension": ".py",
      "mimetype": "text/x-python",
      "name": "python",
      "nbconvert_exporter": "python",
      "pygments_lexer": "ipython3",
      "version": "3.8.5"
    }
  },
  "nbformat": 4,
  "nbformat_minor": 0
}