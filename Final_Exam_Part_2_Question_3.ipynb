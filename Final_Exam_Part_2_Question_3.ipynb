{
  "nbformat": 4,
  "nbformat_minor": 0,
  "metadata": {
    "colab": {
      "name": "Final Exam Part 2 Question 3.ipynb",
      "provenance": [],
      "collapsed_sections": [],
      "authorship_tag": "ABX9TyOIQvKmSkTbdf9uaUrSWObv",
      "include_colab_link": true
    },
    "kernelspec": {
      "name": "python3",
      "display_name": "Python 3"
    },
    "language_info": {
      "name": "python"
    }
  },
  "cells": [
    {
      "cell_type": "markdown",
      "metadata": {
        "id": "view-in-github",
        "colab_type": "text"
      },
      "source": [
        "<a href=\"https://colab.research.google.com/github/B1501/Charitha_INFO5502_Spring2022/blob/main/Final_Exam_Part_2_Question_3.ipynb\" target=\"_parent\"><img src=\"https://colab.research.google.com/assets/colab-badge.svg\" alt=\"Open In Colab\"/></a>"
      ]
    },
    {
      "cell_type": "markdown",
      "source": [
        "Question 3 (100 pt, each sub-question is 10 pt).\n",
        "\n",
        "Part A: Given Inetd dataset, an intrusion detection dataset that contains 2 columns. The first column represents a process ID number (PID) and the second column represents a system call. The goal is to extract the entire system call sequence by its PID, then tokenize and parse each sequence into 25-grams. After this, we’ll split the data into training and testing sets. Next, we ensure data quality in the training dataset by removing duplicate sequences within each class and overlapped sequences between both classes. To ensure a fair evaluation, we also clean the testing set by repeating the previous step. You will implement a Decision Tree model to train and test on the training set and testing set that we just clean.\n",
        "\n",
        "Part B: As the data type is sequential, we want to know how similar the sequences from both classes are and visualize how the similarity scores vary in different sequence lengths. Compute a cosine similarity score of 100 random pairs from both classes and get a median cosine similarity. Repeat this step in different sequence lengths (5, 10, 15, and 20). Plot a line chart to visualize how the median cosine similarities vary through sequence lengths of 5 to 25.\n",
        "\n",
        "You can download the datasets from github: https://github.com/unt-iialab/info5502-spring2022/tree/main/finalexam/q4\n",
        "\n",
        "Step by step instructions and questions:\n",
        "\n",
        "(1) Attached are the Normal and Intrusion data folders. Read in the data and store them in two separate dataframes. Combine the system calls (the second column) from the same PID (the first column) into a sequence or a string.\n",
        "\n",
        "(2) Parse an entire sequence into smaller sequences of size 25. (Hint: Use word_tokenize and ngrams from nltk library to parse).\n",
        "\n",
        "(3) Add labels to the data, and partition the labeled data into training data and testing data with a ratio of 70/30.\n",
        "\n",
        "(4) As the dataset has a lot of duplicate sequences, make sure that the testing data only contain unique sequences and that these sequences do not exist in the training data. Condense training data and testing data into two sets. Take the difference between the testing set and training set to remove the overlapped sequences from the testing data.\n",
        "\n",
        "(5) The sequences from each class can be repetitive, and some of these sequences may have different labels. Therefore, we need to remove the duplicate sequences within each class and the overlapped sequences from the Intrusion class. Start out by separating the Normal class and Intrusion class in the training data. Use the same concept in Question 4 to remove duplicate sequences and overlapped sequences from the training data.\n",
        "\n",
        "(6) Repeat Question 5 to clean the testing data.\n",
        "\n",
        "(7) Bootstrap the training data to get the same number of sequences from each class. Train and evaluate a Decision Tree model using the training data and testing data that we just clean. How is the performance?\n",
        "\n",
        "(8) Randomly sample 100 pairs of sequences from both classes and calculate the median cosine similarity.\n",
        "\n",
        "(9) Refer back to Question 2, parse the data into a length of 5, 10, 15, and 20. Clean the data from each class using Question 5. For each sequence length, calculate the median cosine similarity of 100 random pairs of sequences from both classes.\n",
        "\n",
        "(10) Plot a line chart to visualize how the median cosine similarities vary through different sequence lengths from 5 to 25."
      ],
      "metadata": {
        "id": "Fr4JrizVI7Jk"
      }
    },
    {
      "cell_type": "code",
      "source": [
        "#you code here\n",
        " #1)\n",
        "import pandas as pd\n",
        "import numpy as np\n",
        "\n",
        "# load data from git\n",
        "intrusion_dat = pd.read_csv(\"https://raw.githubusercontent.com/unt-iialab/info5502-spring2022/main/finalexam/q4/inetd-intrusion.int\", sep = \" \", header = None)\n",
        "norm_dat = pd.read_csv(\"https://raw.githubusercontent.com/unt-iialab/info5502-spring2022/main/finalexam/q4/inetd-normal.int\", sep = \" \", header = None)\n",
        "\n",
        "intrusion_dat.columns = ['PID', 'SystemCalls']\n",
        "norm_dat.columns = ['PID', 'SystemCalls']\n",
        "print(\"intrusion-data\")\n",
        "print(\"-----------------------------\")\n",
        "print(intrusion_dat.head(2))\n",
        "print()\n",
        "print(\"normal-data\")\n",
        "print(\"------------------------------\")\n",
        "print(norm_dat.head(2))\n"
      ],
      "metadata": {
        "id": "ftVjt_IuI9l2",
        "colab": {
          "base_uri": "https://localhost:8080/"
        },
        "outputId": "7b019bb0-d2bf-40e9-d51e-d97fe2edc8c4"
      },
      "execution_count": null,
      "outputs": [
        {
          "output_type": "stream",
          "name": "stdout",
          "text": [
            "intrusion-data\n",
            "-----------------------------\n",
            "   PID  SystemCalls\n",
            "0  167           90\n",
            "1  167          125\n",
            "\n",
            "normal-data\n",
            "------------------------------\n",
            "   PID  SystemCalls\n",
            "0  167           90\n",
            "1  167          125\n"
          ]
        }
      ]
    },
    {
      "cell_type": "code",
      "source": [
        "intrusion_dat.shape"
      ],
      "metadata": {
        "colab": {
          "base_uri": "https://localhost:8080/"
        },
        "id": "aetqqLnMfRZY",
        "outputId": "7fab0660-8805-40e3-f779-017339f2b8aa"
      },
      "execution_count": null,
      "outputs": [
        {
          "output_type": "execute_result",
          "data": {
            "text/plain": [
              "(8371, 2)"
            ]
          },
          "metadata": {},
          "execution_count": 2
        }
      ]
    },
    {
      "cell_type": "code",
      "source": [
        "norm_dat.shape"
      ],
      "metadata": {
        "colab": {
          "base_uri": "https://localhost:8080/"
        },
        "id": "uuLAi-TXfuec",
        "outputId": "68c334c6-5e76-43d8-a58e-dba6a5bcf9c2"
      },
      "execution_count": null,
      "outputs": [
        {
          "output_type": "execute_result",
          "data": {
            "text/plain": [
              "(541, 2)"
            ]
          },
          "metadata": {},
          "execution_count": 3
        }
      ]
    },
    {
      "cell_type": "code",
      "source": [
        "#taking the empty dictionary \n",
        "intrude_dict = {}\n",
        "norm_dict = {}\n",
        "\n",
        "# combining the system calls for the two datasets\n",
        "for pid in list(set(intrusion_dat['PID'].values)):\n",
        "    intrude_dict[pid] = \" \".join(str(value) for value in list(intrusion_dat[intrusion_dat['PID'] == pid]['SystemCalls'].values))\n",
        "\n",
        "for pid in list(set(norm_dat['PID'].values)):\n",
        "    norm_dict[pid] = \" \".join(str(value) for value in list(norm_dat[norm_dat['PID'] == pid]['SystemCalls'].values))\n",
        "\n",
        "intrude_dict[167]"
      ],
      "metadata": {
        "colab": {
          "base_uri": "https://localhost:8080/",
          "height": 35
        },
        "id": "S7fa28uegNwM",
        "outputId": "a5dcb7d3-b0c2-4969-fc10-cf712e0f2afa"
      },
      "execution_count": null,
      "outputs": [
        {
          "output_type": "execute_result",
          "data": {
            "text/plain": [
              "'90 125 125 106 5 90 6 5 3 90 90 90 90 6 125 91 125 125 125 136 49 24 47 50 45 45 5 106 106 106 106 106 2 1'"
            ],
            "application/vnd.google.colaboratory.intrinsic+json": {
              "type": "string"
            }
          },
          "metadata": {},
          "execution_count": 4
        }
      ]
    },
    {
      "cell_type": "code",
      "source": [
        "# 2) importing the nltk package with ngrams mentioned in the above question\n",
        "import re\n",
        "from nltk.util import ngrams"
      ],
      "metadata": {
        "id": "C5ump9PGglo3"
      },
      "execution_count": null,
      "outputs": []
    },
    {
      "cell_type": "code",
      "source": [
        "#taking the empty list for intrusion and nomral data\n",
        "intrude_list = []\n",
        "norm_list = []\n",
        "\n",
        "# generating ngrams with sequence length of 25\n",
        "\n",
        "for key_token in intrude_dict.keys():\n",
        "    s = intrude_dict[key_token]\n",
        "    token_word = [token for token in s.split(\" \") if token != \"\"]\n",
        "    \n",
        "    for ele in list(ngrams(token_word, 25)):\n",
        "        intrude_list.append(ele)\n",
        "        \n",
        "for key_token in norm_dict.keys():\n",
        "    s = norm_dict[key_token]\n",
        "    token_word = [token for token in s.split(\" \") if token != \"\"]\n",
        "    \n",
        "    for ele in list(ngrams(token_word, 25)):\n",
        "        norm_list.append(ele) "
      ],
      "metadata": {
        "id": "bgNdy_zagv-Y"
      },
      "execution_count": null,
      "outputs": []
    },
    {
      "cell_type": "code",
      "source": [
        "#printing the length after generating the ngrams with the sequence size 25\n",
        "print(len(intrude_list))\n",
        "print(len(norm_list))"
      ],
      "metadata": {
        "colab": {
          "base_uri": "https://localhost:8080/"
        },
        "id": "AMj4aPs4hogE",
        "outputId": "b1adb4c8-0062-4a71-f2bc-19b5ac491038"
      },
      "execution_count": null,
      "outputs": [
        {
          "output_type": "stream",
          "name": "stdout",
          "text": [
            "7627\n",
            "469\n"
          ]
        }
      ]
    },
    {
      "cell_type": "code",
      "source": [
        " #3)\n",
        "import pandas as pd\n",
        "#creating the separate data frames and storing the data \n",
        "intrude_data = pd.DataFrame(intrude_list)\n",
        "norm_data = pd.DataFrame(norm_list)\n",
        "\n",
        "# adding labels to intrusion and normal data sequences\n",
        "intrude_data['class'] = 1\n",
        "norm_data['class'] = 0"
      ],
      "metadata": {
        "id": "_WlS6SzWhux9"
      },
      "execution_count": null,
      "outputs": []
    },
    {
      "cell_type": "code",
      "source": [
        "#printing the shape after adding the labels in a sequence\n",
        "print(intrude_data.shape)\n",
        "print(norm_data.shape)"
      ],
      "metadata": {
        "colab": {
          "base_uri": "https://localhost:8080/"
        },
        "id": "2RTlsk-NieCT",
        "outputId": "914c7898-49c0-4891-80e9-ec16b2e94bff"
      },
      "execution_count": null,
      "outputs": [
        {
          "output_type": "stream",
          "name": "stdout",
          "text": [
            "(7627, 26)\n",
            "(469, 26)\n"
          ]
        }
      ]
    },
    {
      "cell_type": "code",
      "source": [
        "# combining both intrusion and normal data frames using pandas\n",
        "combined_frames = pd.DataFrame()\n",
        "combined_frames = combined_frames.append(intrude_data)\n",
        "combined_frames = combined_frames.append(norm_data)\n",
        "print(combined_frames.shape)"
      ],
      "metadata": {
        "colab": {
          "base_uri": "https://localhost:8080/"
        },
        "id": "iHqkcO4AinFR",
        "outputId": "e21ed15b-902e-4f7c-a13e-fae628afa9da"
      },
      "execution_count": null,
      "outputs": [
        {
          "output_type": "stream",
          "name": "stdout",
          "text": [
            "(8096, 26)\n"
          ]
        }
      ]
    },
    {
      "cell_type": "code",
      "source": [
        "# dropping duplicates for the dataframes combined above\n",
        "combined_frames = combined_frames.drop_duplicates(subset = combined_frames.columns[:-1], keep = 'last')"
      ],
      "metadata": {
        "id": "4ZkvDE9Wi2rq"
      },
      "execution_count": null,
      "outputs": []
    },
    {
      "cell_type": "code",
      "source": [
        "combined_frames.shape"
      ],
      "metadata": {
        "colab": {
          "base_uri": "https://localhost:8080/"
        },
        "id": "l9iHKhWujK71",
        "outputId": "841999d4-0e52-450c-b8c5-8e2e9e51ed1e"
      },
      "execution_count": null,
      "outputs": [
        {
          "output_type": "execute_result",
          "data": {
            "text/plain": [
              "(333, 26)"
            ]
          },
          "metadata": {},
          "execution_count": 12
        }
      ]
    },
    {
      "cell_type": "code",
      "source": [
        "combined_frames['class'].value_counts()"
      ],
      "metadata": {
        "colab": {
          "base_uri": "https://localhost:8080/"
        },
        "id": "f1k23bmVjLYZ",
        "outputId": "6050e9aa-b4be-4e08-cf62-55c4f28881f5"
      },
      "execution_count": null,
      "outputs": [
        {
          "output_type": "execute_result",
          "data": {
            "text/plain": [
              "1    177\n",
              "0    156\n",
              "Name: class, dtype: int64"
            ]
          },
          "metadata": {},
          "execution_count": 13
        }
      ]
    },
    {
      "cell_type": "code",
      "source": [
        "combined_frames.columns[:-1]"
      ],
      "metadata": {
        "colab": {
          "base_uri": "https://localhost:8080/"
        },
        "id": "T1_zMkYxjOcG",
        "outputId": "9ff7dec8-b475-438f-965e-df0c2c816466"
      },
      "execution_count": null,
      "outputs": [
        {
          "output_type": "execute_result",
          "data": {
            "text/plain": [
              "Index([ 0,  1,  2,  3,  4,  5,  6,  7,  8,  9, 10, 11, 12, 13, 14, 15, 16, 17,\n",
              "       18, 19, 20, 21, 22, 23, 24],\n",
              "      dtype='object')"
            ]
          },
          "metadata": {},
          "execution_count": 14
        }
      ]
    },
    {
      "cell_type": "code",
      "source": [
        "# building a decision tree classifier\n",
        "from sklearn.tree import DecisionTreeClassifier\n",
        "from sklearn import preprocessing\n",
        "from sklearn.metrics import classification_report\n",
        "from sklearn.model_selection import train_test_split"
      ],
      "metadata": {
        "id": "-wiG0R0BjTe5"
      },
      "execution_count": null,
      "outputs": []
    },
    {
      "cell_type": "code",
      "source": [
        "X_frame = combined_frames.drop(\"class\", axis = 1)\n",
        "y_frame = combined_frames['class']\n",
        "#splitting the data into into train set and test set\n",
        "X_train, X_valid, y_train, y_valid = train_test_split(X_frame, y_frame, test_size = 0.2, random_state = 0)\n",
        "# 6)using decision tree classifier concept predicted the values for precision,recall,f1score and support\n",
        "dtreeclassifier = DecisionTreeClassifier(max_depth = 10)\n",
        "dtreeclassifier.fit(X_train, y_train)\n",
        "y_pred = dtreeclassifier.predict(X_valid)\n",
        "\n",
        "print(classification_report(y_valid, y_pred))"
      ],
      "metadata": {
        "colab": {
          "base_uri": "https://localhost:8080/"
        },
        "id": "5RAMyLYuo_F8",
        "outputId": "764e4129-8772-47c6-f1de-af626618347a"
      },
      "execution_count": null,
      "outputs": [
        {
          "output_type": "stream",
          "name": "stdout",
          "text": [
            "              precision    recall  f1-score   support\n",
            "\n",
            "           0       0.74      0.77      0.76        22\n",
            "           1       0.89      0.87      0.88        45\n",
            "\n",
            "    accuracy                           0.84        67\n",
            "   macro avg       0.81      0.82      0.82        67\n",
            "weighted avg       0.84      0.84      0.84        67\n",
            "\n"
          ]
        }
      ]
    },
    {
      "cell_type": "code",
      "source": [
        "#imported packages for the required question\n",
        "import re\n",
        "from nltk.util import ngrams\n",
        "import pandas as pd\n",
        "#created an empty cosine similarity dictionary\n",
        "cosine_similar_ngram = {}\n",
        "#for loop from range 5 to 25\n",
        "for ngram in range(5, 26, 5):\n",
        "\n",
        "    intrude_dat = pd.read_csv(\"https://raw.githubusercontent.com/unt-iialab/info5502-spring2022/main/finalexam/q4/inetd-intrusion.int\", sep = \" \", header = None)\n",
        "    norm_data = pd.read_csv(\"https://raw.githubusercontent.com/unt-iialab/info5502-spring2022/main/finalexam/q4/inetd-normal.int\", sep = \" \", header = None)\n",
        "    #calling the columns\n",
        "    intrude_dat.columns = ['PID', 'SystemCalls']\n",
        "    norm_dat.columns = ['PID', 'SystemCalls']\n",
        "\n",
        "    intrude_dict = {}\n",
        "    norm_dict = {}\n",
        "\n",
        "    for pid in list(set(intrude_dat['PID'].values)):\n",
        "        intrude_dict[pid] = \" \".join(str(value) for value in list(intrude_dat[intrude_dat['PID'] == pid]['SystemCalls'].values))\n",
        "\n",
        "    for pid in list(set(norm_dat['PID'].values)):\n",
        "        norm_dict[pid] = \" \".join(str(value) for value in list(norm_dat[norm_dat['PID'] == pid]['SystemCalls'].values))\n",
        "\n",
        "    intrusion_list = []\n",
        "    normal_list = []\n",
        "    for key in intrude_dict.keys():\n",
        "        stoken = intrude_dict[key]\n",
        "        tokens = [token for token in stoken.split(\" \") if token != \"\"]\n",
        "\n",
        "        for ele in list(ngrams(tokens, ngram)):\n",
        "            intrusion_list.append(ele)\n",
        "\n",
        "    for key in norm_dict.keys():\n",
        "        stoken = norm_dict[key]\n",
        "        tokens = [token for token in stoken.split(\" \") if token != \"\"]\n",
        "\n",
        "        for ele in list(ngrams(tokens, ngram)):\n",
        "            normal_list.append(ele)\n",
        "\n",
        "    intrude = pd.DataFrame(intrusion_list)\n",
        "    norm = pd.DataFrame(normal_list)\n",
        "\n",
        "    intrude['class'] = 1\n",
        "    norm['class'] = 0\n",
        "\n",
        "    combined_frame = pd.DataFrame()\n",
        "\n",
        "    combined_frame = combined_frame.append(intrude)\n",
        "    combined_frame = combined_frame.append(norm)\n",
        "\n",
        "    print(combined_frame.shape)\n",
        "    print(\"------------------\")\n",
        "\n",
        "\n",
        "    combined_frame = combined_frame.drop_duplicates(subset = combined_frame.columns[:-1], keep = 'last')\n",
        "    print(combined_frame.shape)\n",
        "    print(\"------------------\")\n",
        "\n",
        "    from sklearn.metrics.pairwise import cosine_similarity\n",
        "    import statistics\n",
        "\n",
        "    similarities_lis = []\n",
        "    for i in range(0, 100):\n",
        "        lis1 = list(combined_frame[combined_frame['class'] == 0].sample(n = 1).iloc[0, :].values)\n",
        "        lis2 = list(combined_frame[combined_frame['class'] == 1].sample(n = 1).iloc[0, :].values)\n",
        "        try:\n",
        "            similarities_lis.append(cosine_similarity([lis1], [lis2]))\n",
        "        except Exception as ex:\n",
        "            print(ex)\n",
        "            print(lis1, lis2)\n",
        "\n",
        "    print(statistics.median(similarities_lis)[0][0])\n",
        "    print(\"------------------------------------------------\")\n",
        "    cosine_similar_ngram[ngram] = statistics.median(similarities_lis)[0][0]"
      ],
      "metadata": {
        "colab": {
          "base_uri": "https://localhost:8080/"
        },
        "id": "9_N8atNZj3mh",
        "outputId": "4d251e19-b126-4cbe-b573-ef5d90a9cfe7"
      },
      "execution_count": null,
      "outputs": [
        {
          "output_type": "stream",
          "name": "stdout",
          "text": [
            "(8776, 6)\n",
            "------------------\n",
            "(168, 6)\n",
            "------------------\n",
            "0.7811615735448666\n",
            "------------------------------------------------\n",
            "(8606, 11)\n",
            "------------------\n",
            "(213, 11)\n",
            "------------------\n",
            "0.7004505623614201\n",
            "------------------------------------------------\n",
            "(8436, 16)\n",
            "------------------\n",
            "(254, 16)\n",
            "------------------\n",
            "0.7072730325670347\n",
            "------------------------------------------------\n",
            "(8266, 21)\n",
            "------------------\n",
            "(293, 21)\n",
            "------------------\n",
            "0.7394825699329326\n",
            "------------------------------------------------\n",
            "(8096, 26)\n",
            "------------------\n",
            "(333, 26)\n",
            "------------------\n",
            "0.7229952486917939\n",
            "------------------------------------------------\n"
          ]
        }
      ]
    },
    {
      "cell_type": "code",
      "source": [
        " # created a line plot using seaborn for ngram and similarity scores\n",
        "import matplotlib.pyplot as plt\n",
        "import seaborn as sns\n",
        "\n",
        "cosine_similaity_ngram_data = pd.DataFrame({\"Ngrams\":list(cosine_similar_ngram.keys()), \"Similarity_scores\": list(cosine_similar_ngram.values())})\n",
        "\n",
        "\n",
        "plt.rcParams['figure.figsize'] = [10, 7]\n",
        "\n",
        "# we iterate through each ngram range class and plot the line chart\n",
        "sns.lineplot(x = \"Ngrams\", y = \"Similarity_scores\", data = cosine_similaity_ngram_data)\n",
        "    \n",
        "plt.title(\"Line chart for cosine similarity scores\")\n",
        "plt.xlabel(\"Ngram\")\n",
        "plt.ylabel(\"Cosine_similarity Scores\")\n",
        "plt.xticks(rotation = 90)\n",
        "plt.show()"
      ],
      "metadata": {
        "colab": {
          "base_uri": "https://localhost:8080/",
          "height": 471
        },
        "id": "rFAkpc9Snm3a",
        "outputId": "0ddecd4b-5b83-4e7d-e61c-5e7d87ae25f5"
      },
      "execution_count": null,
      "outputs": [
        {
          "output_type": "display_data",
          "data": {
            "text/plain": [
              "<Figure size 720x504 with 1 Axes>"
            ],
            "image/png": "[encoded data removed]"
          },
          "metadata": {
            "needs_background": "light"
          }
        }
      ]
    }
  ]
}