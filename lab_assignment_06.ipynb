{
  "cells": [
    {
      "cell_type": "markdown",
      "metadata": {
        "id": "view-in-github",
        "colab_type": "text"
      },
      "source": [
        "<a href=\"https://colab.research.google.com/github/B1501/Charitha_INFO5502_Spring2022/blob/main/lab_assignment_06.ipynb\" target=\"_parent\"><img src=\"https://colab.research.google.com/assets/colab-badge.svg\" alt=\"Open In Colab\"/></a>"
      ]
    },
    {
      "cell_type": "markdown",
      "metadata": {
        "id": "kTc6r5Tch9GY"
      },
      "source": [
        "## The sixth Lab-assignment (03/24/2022, 50 points in total)"
      ]
    },
    {
      "cell_type": "markdown",
      "metadata": {
        "id": "Jf3oqylJh9GZ"
      },
      "source": [
        "The purpose of this exercise is to build a simple predicition model which can helpyou understand the workflow of machine learning. "
      ]
    },
    {
      "cell_type": "markdown",
      "metadata": {
        "id": "nKvUnakah9Ga"
      },
      "source": [
        "### Task Decription "
      ]
    },
    {
      "cell_type": "markdown",
      "metadata": {
        "id": "xKbKVcTuh9Ga"
      },
      "source": [
        "The goal of this assignment is to predict bike share use, given the hour, day, and information about the weather. Companies like Divvy try to predict how much demand there will be for bikes on any given day to allocate resources to redistribute bikes so that, ideally, very few bike stations are ever full (when you can’t park your bike) or empty (when you can’t pick up a bike if you want to).\n",
        "\n",
        "The data (link: https://github.com/unt-iialab/info5502-spring2022/tree/main/datasets/lab_assignment_06) in Github provides detailed information on the data set and necessary downloads."
      ]
    },
    {
      "cell_type": "markdown",
      "metadata": {
        "id": "vH0alL68h9Gf"
      },
      "source": [
        "### Data Description"
      ]
    },
    {
      "cell_type": "markdown",
      "metadata": {
        "id": "yLYXJSfyh9Gf"
      },
      "source": [
        "You are provided hourly rental data spanning two years (link: https://github.com/unt-iialab/info5502-spring2022/tree/main/datasets/lab_assignment_06). For this task, the training set is comprised of the first 16 days of each month, while the test set is the 17-19th day of the month. You must predict the total count of bikes rented during each hour covered by the test set, using only information available prior to the rental period. That is, predict \"count\" without using \"count\" or its components \"casual\" and \"registered\".\n",
        "\n",
        "Data Fields\n",
        "\n",
        "datetime - hourly date + timestamp\n",
        "\n",
        "season - 1 = spring, 2 = summer, 3 = fall, 4 = winter\n",
        "\n",
        "holiday - whether the day is considered a holiday\n",
        "\n",
        "workingday - whether the day is neither a weekend nor holiday\n",
        "\n",
        "weather -\n",
        "\n",
        "1 - Clear, Few clouds, Partly cloudy, Partly cloudy\n",
        "\n",
        "2 - Mist + Cloudy, Mist + Broken clouds, Mist + Few clouds, Mist\n",
        "\n",
        "3 - Light Snow, Light Rain + Thunderstorm + Scattered clouds, Light Rain + Scattered clouds\n",
        "\n",
        "4 - Heavy Rain + Ice Pallets + Thunderstorm + Mist, Snow + Fog\n",
        "\n",
        "temp - temperature in Celsius\n",
        "\n",
        "atemp - \"feels like\" temperature in Celsius\n",
        "\n",
        "humidity - relative humidity\n",
        "\n",
        "windspeed - wind speed\n",
        "\n",
        "casual - number of non-registered user rentals initiated\n",
        "\n",
        "registered - number of registered user rentals initiated\n",
        "\n",
        "count - number of total rentals"
      ]
    },
    {
      "cell_type": "markdown",
      "metadata": {
        "id": "kqUSQ7DOh9Gg"
      },
      "source": [
        "### Output"
      ]
    },
    {
      "cell_type": "markdown",
      "metadata": {
        "id": "0f41kxGGh9Gg"
      },
      "source": [
        "Submission Format\n",
        "\n",
        "Your output (a separate file) must have a header line and should be structured in the following format:\n",
        "\n",
        " datetime,count\n",
        " \n",
        " 2011-01-20 00:00:00,0 \n",
        " \n",
        " 2011-01-20 01:00:00,0\n",
        " \n",
        " 2011-01-20 02:00:00,0\n",
        " \n",
        " ...\n",
        " \n",
        "The tutorial code should demonstrate how to generate such a file from a very simple prediction model. Note, these prediction are to be done on the test file under the data tab, where you do not know the actual count, and should match the rows of the test file in count and order.\n",
        "\n",
        "Your predictions should be compared to the ground truth information (sample_prediction.csv). Score are calculated using Root Mean Squared Error (RMSE)."
      ]
    },
    {
      "cell_type": "markdown",
      "metadata": {
        "id": "4C078RYph9Gg"
      },
      "source": [
        "### Tips"
      ]
    },
    {
      "cell_type": "markdown",
      "metadata": {
        "id": "Om-r1SNGh9Gg"
      },
      "source": [
        "●\tAdd features: Pick columns/features from the data you already have. Or make a new feature from the ones you have. For example, the tutorial makes ‘hour’ from the datetime stamp, which seemed very useful. How about ‘month’?\n",
        "\n",
        "●\tModel selection: Try different models. Make sure they are regression models rather than classification models. Tip: random forest regression is a good, all around modeling strategy on complicated data sets.\n",
        "\n",
        "●\tModel tuning: Almost all regression models have parameters to tune (“hyperparameters”). E.g. polynomial regression has the degree of the polynomial (n = 1 for a line, n=2 for a quadratic fit, n=3 for a cubic fit…). Generally, one extreme makes the model too simple (e.g. a line for a curved set of points) and the other extreme makes the model overfit/be too complex, and usually the right choice is in between. For some models it is obvious what to tune (e.g. k for k nearest neighbors regression) and some don’t need much tuning with defaults that often work well. e.g. try changing the number of trees used in the random forest model!\n",
        "\n",
        "●\tCross validation: The tutorial has a simple way of separating training and test data, however, there are better ways of splitting training and test data. Look into cross validation techniques, which are more reliable than an arbitrary split of training and test data.\n",
        "\n",
        "●\tSeparate models for ...: Notice that count comes from just adding casual riders and registered riders. However, what if these two types of riders acted very differently? It might make sense to make two separate models and just add the results of both models together. This is also true for any subsets of your data that may behave wildly differently (e.g. create a separate model for each season?)"
      ]
    },
    {
      "cell_type": "markdown",
      "metadata": {
        "id": "bU6-61Ngh9Gg"
      },
      "source": [
        "### Your code"
      ]
    },
    {
      "cell_type": "code",
      "execution_count": 28,
      "metadata": {
        "id": "eZPDHssrh9Gh",
        "colab": {
          "base_uri": "https://localhost:8080/",
          "height": 835
        },
        "outputId": "01892a38-405c-4a7f-d42f-c50074d04607"
      },
      "outputs": [
        {
          "output_type": "execute_result",
          "data": {
            "text/plain": [
              "                 datetime  season  holiday  workingday  weather   temp  \\\n",
              "0     2011-01-01 00:00:00       1        0           0        1   9.84   \n",
              "1     2011-01-01 01:00:00       1        0           0        1   9.02   \n",
              "2     2011-01-01 02:00:00       1        0           0        1   9.02   \n",
              "3     2011-01-01 03:00:00       1        0           0        1   9.84   \n",
              "4     2011-01-01 04:00:00       1        0           0        1   9.84   \n",
              "...                   ...     ...      ...         ...      ...    ...   \n",
              "9169  2012-12-16 19:00:00       4        0           0        1  14.76   \n",
              "9170  2012-12-16 20:00:00       4        0           0        2  15.58   \n",
              "9171  2012-12-16 21:00:00       4        0           0        2  14.76   \n",
              "9172  2012-12-16 22:00:00       4        0           0        2  16.40   \n",
              "9173  2012-12-16 23:00:00       4        0           0        2  14.76   \n",
              "\n",
              "       atemp  humidity  windspeed  casual  registered  count  \n",
              "0     14.395        81     0.0000       3          13     16  \n",
              "1     13.635        80     0.0000       8          32     40  \n",
              "2     13.635        80     0.0000       5          27     32  \n",
              "3     14.395        75     0.0000       3          10     13  \n",
              "4     14.395        75     0.0000       0           1      1  \n",
              "...      ...       ...        ...     ...         ...    ...  \n",
              "9169  17.425        93     8.9981      10          99    109  \n",
              "9170  19.695        82     0.0000      14         108    122  \n",
              "9171  18.940        93     0.0000      14          92    106  \n",
              "9172  20.455        82    12.9980       6          83     89  \n",
              "9173  17.425        93     8.9981       4          29     33  \n",
              "\n",
              "[9174 rows x 12 columns]"
            ],
            "text/html": [
              "\n",
              "  <div id=\"df-e47acc6e-d383-4463-8428-2f23dfe49b5c\">\n",
              "    <div class=\"colab-df-container\">\n",
              "      <div>\n",
              "<style scoped>\n",
              "    .dataframe tbody tr th:only-of-type {\n",
              "        vertical-align: middle;\n",
              "    }\n",
              "\n",
              "    .dataframe tbody tr th {\n",
              "        vertical-align: top;\n",
              "    }\n",
              "\n",
              "    .dataframe thead th {\n",
              "        text-align: right;\n",
              "    }\n",
              "</style>\n",
              "<table border=\"1\" class=\"dataframe\">\n",
              "  <thead>\n",
              "    <tr style=\"text-align: right;\">\n",
              "      <th></th>\n",
              "      <th>datetime</th>\n",
              "      <th>season</th>\n",
              "      <th>holiday</th>\n",
              "      <th>workingday</th>\n",
              "      <th>weather</th>\n",
              "      <th>temp</th>\n",
              "      <th>atemp</th>\n",
              "      <th>humidity</th>\n",
              "      <th>windspeed</th>\n",
              "      <th>casual</th>\n",
              "      <th>registered</th>\n",
              "      <th>count</th>\n",
              "    </tr>\n",
              "  </thead>\n",
              "  <tbody>\n",
              "    <tr>\n",
              "      <th>0</th>\n",
              "      <td>2011-01-01 00:00:00</td>\n",
              "      <td>1</td>\n",
              "      <td>0</td>\n",
              "      <td>0</td>\n",
              "      <td>1</td>\n",
              "      <td>9.84</td>\n",
              "      <td>14.395</td>\n",
              "      <td>81</td>\n",
              "      <td>0.0000</td>\n",
              "      <td>3</td>\n",
              "      <td>13</td>\n",
              "      <td>16</td>\n",
              "    </tr>\n",
              "    <tr>\n",
              "      <th>1</th>\n",
              "      <td>2011-01-01 01:00:00</td>\n",
              "      <td>1</td>\n",
              "      <td>0</td>\n",
              "      <td>0</td>\n",
              "      <td>1</td>\n",
              "      <td>9.02</td>\n",
              "      <td>13.635</td>\n",
              "      <td>80</td>\n",
              "      <td>0.0000</td>\n",
              "      <td>8</td>\n",
              "      <td>32</td>\n",
              "      <td>40</td>\n",
              "    </tr>\n",
              "    <tr>\n",
              "      <th>2</th>\n",
              "      <td>2011-01-01 02:00:00</td>\n",
              "      <td>1</td>\n",
              "      <td>0</td>\n",
              "      <td>0</td>\n",
              "      <td>1</td>\n",
              "      <td>9.02</td>\n",
              "      <td>13.635</td>\n",
              "      <td>80</td>\n",
              "      <td>0.0000</td>\n",
              "      <td>5</td>\n",
              "      <td>27</td>\n",
              "      <td>32</td>\n",
              "    </tr>\n",
              "    <tr>\n",
              "      <th>3</th>\n",
              "      <td>2011-01-01 03:00:00</td>\n",
              "      <td>1</td>\n",
              "      <td>0</td>\n",
              "      <td>0</td>\n",
              "      <td>1</td>\n",
              "      <td>9.84</td>\n",
              "      <td>14.395</td>\n",
              "      <td>75</td>\n",
              "      <td>0.0000</td>\n",
              "      <td>3</td>\n",
              "      <td>10</td>\n",
              "      <td>13</td>\n",
              "    </tr>\n",
              "    <tr>\n",
              "      <th>4</th>\n",
              "      <td>2011-01-01 04:00:00</td>\n",
              "      <td>1</td>\n",
              "      <td>0</td>\n",
              "      <td>0</td>\n",
              "      <td>1</td>\n",
              "      <td>9.84</td>\n",
              "      <td>14.395</td>\n",
              "      <td>75</td>\n",
              "      <td>0.0000</td>\n",
              "      <td>0</td>\n",
              "      <td>1</td>\n",
              "      <td>1</td>\n",
              "    </tr>\n",
              "    <tr>\n",
              "      <th>...</th>\n",
              "      <td>...</td>\n",
              "      <td>...</td>\n",
              "      <td>...</td>\n",
              "      <td>...</td>\n",
              "      <td>...</td>\n",
              "      <td>...</td>\n",
              "      <td>...</td>\n",
              "      <td>...</td>\n",
              "      <td>...</td>\n",
              "      <td>...</td>\n",
              "      <td>...</td>\n",
              "      <td>...</td>\n",
              "    </tr>\n",
              "    <tr>\n",
              "      <th>9169</th>\n",
              "      <td>2012-12-16 19:00:00</td>\n",
              "      <td>4</td>\n",
              "      <td>0</td>\n",
              "      <td>0</td>\n",
              "      <td>1</td>\n",
              "      <td>14.76</td>\n",
              "      <td>17.425</td>\n",
              "      <td>93</td>\n",
              "      <td>8.9981</td>\n",
              "      <td>10</td>\n",
              "      <td>99</td>\n",
              "      <td>109</td>\n",
              "    </tr>\n",
              "    <tr>\n",
              "      <th>9170</th>\n",
              "      <td>2012-12-16 20:00:00</td>\n",
              "      <td>4</td>\n",
              "      <td>0</td>\n",
              "      <td>0</td>\n",
              "      <td>2</td>\n",
              "      <td>15.58</td>\n",
              "      <td>19.695</td>\n",
              "      <td>82</td>\n",
              "      <td>0.0000</td>\n",
              "      <td>14</td>\n",
              "      <td>108</td>\n",
              "      <td>122</td>\n",
              "    </tr>\n",
              "    <tr>\n",
              "      <th>9171</th>\n",
              "      <td>2012-12-16 21:00:00</td>\n",
              "      <td>4</td>\n",
              "      <td>0</td>\n",
              "      <td>0</td>\n",
              "      <td>2</td>\n",
              "      <td>14.76</td>\n",
              "      <td>18.940</td>\n",
              "      <td>93</td>\n",
              "      <td>0.0000</td>\n",
              "      <td>14</td>\n",
              "      <td>92</td>\n",
              "      <td>106</td>\n",
              "    </tr>\n",
              "    <tr>\n",
              "      <th>9172</th>\n",
              "      <td>2012-12-16 22:00:00</td>\n",
              "      <td>4</td>\n",
              "      <td>0</td>\n",
              "      <td>0</td>\n",
              "      <td>2</td>\n",
              "      <td>16.40</td>\n",
              "      <td>20.455</td>\n",
              "      <td>82</td>\n",
              "      <td>12.9980</td>\n",
              "      <td>6</td>\n",
              "      <td>83</td>\n",
              "      <td>89</td>\n",
              "    </tr>\n",
              "    <tr>\n",
              "      <th>9173</th>\n",
              "      <td>2012-12-16 23:00:00</td>\n",
              "      <td>4</td>\n",
              "      <td>0</td>\n",
              "      <td>0</td>\n",
              "      <td>2</td>\n",
              "      <td>14.76</td>\n",
              "      <td>17.425</td>\n",
              "      <td>93</td>\n",
              "      <td>8.9981</td>\n",
              "      <td>4</td>\n",
              "      <td>29</td>\n",
              "      <td>33</td>\n",
              "    </tr>\n",
              "  </tbody>\n",
              "</table>\n",
              "<p>9174 rows × 12 columns</p>\n",
              "</div>\n",
              "      <button class=\"colab-df-convert\" onclick=\"convertToInteractive('df-e47acc6e-d383-4463-8428-2f23dfe49b5c')\"\n",
              "              title=\"Convert this dataframe to an interactive table.\"\n",
              "              style=\"display:none;\">\n",
              "        \n",
              "  <svg xmlns=\"http://www.w3.org/2000/svg\" height=\"24px\"viewBox=\"0 0 24 24\"\n",
              "       width=\"24px\">\n",
              "    <path d=\"M0 0h24v24H0V0z\" fill=\"none\"/>\n",
              "    <path d=\"M18.56 5.44l.94 2.06.94-2.06 2.06-.94-2.06-.94-.94-2.06-.94 2.06-2.06.94zm-11 1L8.5 8.5l.94-2.06 2.06-.94-2.06-.94L8.5 2.5l-.94 2.06-2.06.94zm10 10l.94 2.06.94-2.06 2.06-.94-2.06-.94-.94-2.06-.94 2.06-2.06.94z\"/><path d=\"M17.41 7.96l-1.37-1.37c-.4-.4-.92-.59-1.43-.59-.52 0-1.04.2-1.43.59L10.3 9.45l-7.72 7.72c-.78.78-.78 2.05 0 2.83L4 21.41c.39.39.9.59 1.41.59.51 0 1.02-.2 1.41-.59l7.78-7.78 2.81-2.81c.8-.78.8-2.07 0-2.86zM5.41 20L4 18.59l7.72-7.72 1.47 1.35L5.41 20z\"/>\n",
              "  </svg>\n",
              "      </button>\n",
              "      \n",
              "  <style>\n",
              "    .colab-df-container {\n",
              "      display:flex;\n",
              "      flex-wrap:wrap;\n",
              "      gap: 12px;\n",
              "    }\n",
              "\n",
              "    .colab-df-convert {\n",
              "      background-color: #E8F0FE;\n",
              "      border: none;\n",
              "      border-radius: 50%;\n",
              "      cursor: pointer;\n",
              "      display: none;\n",
              "      fill: #1967D2;\n",
              "      height: 32px;\n",
              "      padding: 0 0 0 0;\n",
              "      width: 32px;\n",
              "    }\n",
              "\n",
              "    .colab-df-convert:hover {\n",
              "      background-color: #E2EBFA;\n",
              "      box-shadow: 0px 1px 2px rgba(60, 64, 67, 0.3), 0px 1px 3px 1px rgba(60, 64, 67, 0.15);\n",
              "      fill: #174EA6;\n",
              "    }\n",
              "\n",
              "    [theme=dark] .colab-df-convert {\n",
              "      background-color: #3B4455;\n",
              "      fill: #D2E3FC;\n",
              "    }\n",
              "\n",
              "    [theme=dark] .colab-df-convert:hover {\n",
              "      background-color: #434B5C;\n",
              "      box-shadow: 0px 1px 3px 1px rgba(0, 0, 0, 0.15);\n",
              "      filter: drop-shadow(0px 1px 2px rgba(0, 0, 0, 0.3));\n",
              "      fill: #FFFFFF;\n",
              "    }\n",
              "  </style>\n",
              "\n",
              "      <script>\n",
              "        const buttonEl =\n",
              "          document.querySelector('#df-e47acc6e-d383-4463-8428-2f23dfe49b5c button.colab-df-convert');\n",
              "        buttonEl.style.display =\n",
              "          google.colab.kernel.accessAllowed ? 'block' : 'none';\n",
              "\n",
              "        async function convertToInteractive(key) {\n",
              "          const element = document.querySelector('#df-e47acc6e-d383-4463-8428-2f23dfe49b5c');\n",
              "          const dataTable =\n",
              "            await google.colab.kernel.invokeFunction('convertToInteractive',\n",
              "                                                     [key], {});\n",
              "          if (!dataTable) return;\n",
              "\n",
              "          const docLinkHtml = 'Like what you see? Visit the ' +\n",
              "            '<a target=\"_blank\" href=https://colab.research.google.com/notebooks/data_table.ipynb>data table notebook</a>'\n",
              "            + ' to learn more about interactive tables.';\n",
              "          element.innerHTML = '';\n",
              "          dataTable['output_type'] = 'display_data';\n",
              "          await google.colab.output.renderOutput(dataTable, element);\n",
              "          const docLink = document.createElement('div');\n",
              "          docLink.innerHTML = docLinkHtml;\n",
              "          element.appendChild(docLink);\n",
              "        }\n",
              "      </script>\n",
              "    </div>\n",
              "  </div>\n",
              "  "
            ]
          },
          "metadata": {},
          "execution_count": 28
        }
      ],
      "source": [
        "### You code here:\n",
        "import pandas as pd\n",
        "train_bike_share=pd.read_csv(\"/content/train_luc.csv\",header=0)\n",
        "train_bike_share"
      ]
    },
    {
      "cell_type": "code",
      "source": [
        "#print the samples and features in the train dataset\n",
        "print(\"The number of samples:\",train_bike_share.shape[0])\n",
        "print(\"The number of features:\",train_bike_share.shape[1])"
      ],
      "metadata": {
        "colab": {
          "base_uri": "https://localhost:8080/"
        },
        "id": "_x2XJD9D1ILJ",
        "outputId": "624e61c7-cc08-46f3-8904-dc2f2bc6e1bf"
      },
      "execution_count": 4,
      "outputs": [
        {
          "output_type": "stream",
          "name": "stdout",
          "text": [
            "The number of samples: 9174\n",
            "The number of features: 12\n"
          ]
        }
      ]
    },
    {
      "cell_type": "code",
      "source": [
        "#importing the datetime package to extract the hour,day,month\n",
        "from datetime import datetime\n",
        "# Here we are transforming the datetime column from datetime datatype\n",
        "train_bike_share['datetime']=pd.to_datetime(train_bike_share.datetime)\n",
        "# we are separting the hour,day,month using dt function from datetime\n",
        "train_bike_share['hour'] = train_bike_share['datetime'].dt.hour\n",
        "train_bike_share['day'] = train_bike_share['datetime'].dt.day\n",
        "train_bike_share['month'] = train_bike_share['datetime'].dt.month\n",
        "train_bike_share.head()"
      ],
      "metadata": {
        "colab": {
          "base_uri": "https://localhost:8080/",
          "height": 444
        },
        "id": "RLtbM23sXlVK",
        "outputId": "1d60d974-8b05-44e9-ba35-d77cd39e4574"
      },
      "execution_count": 65,
      "outputs": [
        {
          "output_type": "execute_result",
          "data": {
            "text/plain": [
              "             datetime  season  holiday  workingday  weather  temp   atemp  \\\n",
              "0 2011-01-01 00:00:00       1        0           0        1  9.84  14.395   \n",
              "1 2011-01-01 01:00:00       1        0           0        1  9.02  13.635   \n",
              "2 2011-01-01 02:00:00       1        0           0        1  9.02  13.635   \n",
              "3 2011-01-01 03:00:00       1        0           0        1  9.84  14.395   \n",
              "4 2011-01-01 04:00:00       1        0           0        1  9.84  14.395   \n",
              "\n",
              "   humidity  windspeed  casual  registered  count  hour  day  month  \n",
              "0        81        0.0       3          13     16     0    1      1  \n",
              "1        80        0.0       8          32     40     1    1      1  \n",
              "2        80        0.0       5          27     32     2    1      1  \n",
              "3        75        0.0       3          10     13     3    1      1  \n",
              "4        75        0.0       0           1      1     4    1      1  "
            ],
            "text/html": [
              "\n",
              "  <div id=\"df-2779292e-10c0-4119-825e-1f6848d7c9e7\">\n",
              "    <div class=\"colab-df-container\">\n",
              "      <div>\n",
              "<style scoped>\n",
              "    .dataframe tbody tr th:only-of-type {\n",
              "        vertical-align: middle;\n",
              "    }\n",
              "\n",
              "    .dataframe tbody tr th {\n",
              "        vertical-align: top;\n",
              "    }\n",
              "\n",
              "    .dataframe thead th {\n",
              "        text-align: right;\n",
              "    }\n",
              "</style>\n",
              "<table border=\"1\" class=\"dataframe\">\n",
              "  <thead>\n",
              "    <tr style=\"text-align: right;\">\n",
              "      <th></th>\n",
              "      <th>datetime</th>\n",
              "      <th>season</th>\n",
              "      <th>holiday</th>\n",
              "      <th>workingday</th>\n",
              "      <th>weather</th>\n",
              "      <th>temp</th>\n",
              "      <th>atemp</th>\n",
              "      <th>humidity</th>\n",
              "      <th>windspeed</th>\n",
              "      <th>casual</th>\n",
              "      <th>registered</th>\n",
              "      <th>count</th>\n",
              "      <th>hour</th>\n",
              "      <th>day</th>\n",
              "      <th>month</th>\n",
              "    </tr>\n",
              "  </thead>\n",
              "  <tbody>\n",
              "    <tr>\n",
              "      <th>0</th>\n",
              "      <td>2011-01-01 00:00:00</td>\n",
              "      <td>1</td>\n",
              "      <td>0</td>\n",
              "      <td>0</td>\n",
              "      <td>1</td>\n",
              "      <td>9.84</td>\n",
              "      <td>14.395</td>\n",
              "      <td>81</td>\n",
              "      <td>0.0</td>\n",
              "      <td>3</td>\n",
              "      <td>13</td>\n",
              "      <td>16</td>\n",
              "      <td>0</td>\n",
              "      <td>1</td>\n",
              "      <td>1</td>\n",
              "    </tr>\n",
              "    <tr>\n",
              "      <th>1</th>\n",
              "      <td>2011-01-01 01:00:00</td>\n",
              "      <td>1</td>\n",
              "      <td>0</td>\n",
              "      <td>0</td>\n",
              "      <td>1</td>\n",
              "      <td>9.02</td>\n",
              "      <td>13.635</td>\n",
              "      <td>80</td>\n",
              "      <td>0.0</td>\n",
              "      <td>8</td>\n",
              "      <td>32</td>\n",
              "      <td>40</td>\n",
              "      <td>1</td>\n",
              "      <td>1</td>\n",
              "      <td>1</td>\n",
              "    </tr>\n",
              "    <tr>\n",
              "      <th>2</th>\n",
              "      <td>2011-01-01 02:00:00</td>\n",
              "      <td>1</td>\n",
              "      <td>0</td>\n",
              "      <td>0</td>\n",
              "      <td>1</td>\n",
              "      <td>9.02</td>\n",
              "      <td>13.635</td>\n",
              "      <td>80</td>\n",
              "      <td>0.0</td>\n",
              "      <td>5</td>\n",
              "      <td>27</td>\n",
              "      <td>32</td>\n",
              "      <td>2</td>\n",
              "      <td>1</td>\n",
              "      <td>1</td>\n",
              "    </tr>\n",
              "    <tr>\n",
              "      <th>3</th>\n",
              "      <td>2011-01-01 03:00:00</td>\n",
              "      <td>1</td>\n",
              "      <td>0</td>\n",
              "      <td>0</td>\n",
              "      <td>1</td>\n",
              "      <td>9.84</td>\n",
              "      <td>14.395</td>\n",
              "      <td>75</td>\n",
              "      <td>0.0</td>\n",
              "      <td>3</td>\n",
              "      <td>10</td>\n",
              "      <td>13</td>\n",
              "      <td>3</td>\n",
              "      <td>1</td>\n",
              "      <td>1</td>\n",
              "    </tr>\n",
              "    <tr>\n",
              "      <th>4</th>\n",
              "      <td>2011-01-01 04:00:00</td>\n",
              "      <td>1</td>\n",
              "      <td>0</td>\n",
              "      <td>0</td>\n",
              "      <td>1</td>\n",
              "      <td>9.84</td>\n",
              "      <td>14.395</td>\n",
              "      <td>75</td>\n",
              "      <td>0.0</td>\n",
              "      <td>0</td>\n",
              "      <td>1</td>\n",
              "      <td>1</td>\n",
              "      <td>4</td>\n",
              "      <td>1</td>\n",
              "      <td>1</td>\n",
              "    </tr>\n",
              "  </tbody>\n",
              "</table>\n",
              "</div>\n",
              "      <button class=\"colab-df-convert\" onclick=\"convertToInteractive('df-2779292e-10c0-4119-825e-1f6848d7c9e7')\"\n",
              "              title=\"Convert this dataframe to an interactive table.\"\n",
              "              style=\"display:none;\">\n",
              "        \n",
              "  <svg xmlns=\"http://www.w3.org/2000/svg\" height=\"24px\"viewBox=\"0 0 24 24\"\n",
              "       width=\"24px\">\n",
              "    <path d=\"M0 0h24v24H0V0z\" fill=\"none\"/>\n",
              "    <path d=\"M18.56 5.44l.94 2.06.94-2.06 2.06-.94-2.06-.94-.94-2.06-.94 2.06-2.06.94zm-11 1L8.5 8.5l.94-2.06 2.06-.94-2.06-.94L8.5 2.5l-.94 2.06-2.06.94zm10 10l.94 2.06.94-2.06 2.06-.94-2.06-.94-.94-2.06-.94 2.06-2.06.94z\"/><path d=\"M17.41 7.96l-1.37-1.37c-.4-.4-.92-.59-1.43-.59-.52 0-1.04.2-1.43.59L10.3 9.45l-7.72 7.72c-.78.78-.78 2.05 0 2.83L4 21.41c.39.39.9.59 1.41.59.51 0 1.02-.2 1.41-.59l7.78-7.78 2.81-2.81c.8-.78.8-2.07 0-2.86zM5.41 20L4 18.59l7.72-7.72 1.47 1.35L5.41 20z\"/>\n",
              "  </svg>\n",
              "      </button>\n",
              "      \n",
              "  <style>\n",
              "    .colab-df-container {\n",
              "      display:flex;\n",
              "      flex-wrap:wrap;\n",
              "      gap: 12px;\n",
              "    }\n",
              "\n",
              "    .colab-df-convert {\n",
              "      background-color: #E8F0FE;\n",
              "      border: none;\n",
              "      border-radius: 50%;\n",
              "      cursor: pointer;\n",
              "      display: none;\n",
              "      fill: #1967D2;\n",
              "      height: 32px;\n",
              "      padding: 0 0 0 0;\n",
              "      width: 32px;\n",
              "    }\n",
              "\n",
              "    .colab-df-convert:hover {\n",
              "      background-color: #E2EBFA;\n",
              "      box-shadow: 0px 1px 2px rgba(60, 64, 67, 0.3), 0px 1px 3px 1px rgba(60, 64, 67, 0.15);\n",
              "      fill: #174EA6;\n",
              "    }\n",
              "\n",
              "    [theme=dark] .colab-df-convert {\n",
              "      background-color: #3B4455;\n",
              "      fill: #D2E3FC;\n",
              "    }\n",
              "\n",
              "    [theme=dark] .colab-df-convert:hover {\n",
              "      background-color: #434B5C;\n",
              "      box-shadow: 0px 1px 3px 1px rgba(0, 0, 0, 0.15);\n",
              "      filter: drop-shadow(0px 1px 2px rgba(0, 0, 0, 0.3));\n",
              "      fill: #FFFFFF;\n",
              "    }\n",
              "  </style>\n",
              "\n",
              "      <script>\n",
              "        const buttonEl =\n",
              "          document.querySelector('#df-2779292e-10c0-4119-825e-1f6848d7c9e7 button.colab-df-convert');\n",
              "        buttonEl.style.display =\n",
              "          google.colab.kernel.accessAllowed ? 'block' : 'none';\n",
              "\n",
              "        async function convertToInteractive(key) {\n",
              "          const element = document.querySelector('#df-2779292e-10c0-4119-825e-1f6848d7c9e7');\n",
              "          const dataTable =\n",
              "            await google.colab.kernel.invokeFunction('convertToInteractive',\n",
              "                                                     [key], {});\n",
              "          if (!dataTable) return;\n",
              "\n",
              "          const docLinkHtml = 'Like what you see? Visit the ' +\n",
              "            '<a target=\"_blank\" href=https://colab.research.google.com/notebooks/data_table.ipynb>data table notebook</a>'\n",
              "            + ' to learn more about interactive tables.';\n",
              "          element.innerHTML = '';\n",
              "          dataTable['output_type'] = 'display_data';\n",
              "          await google.colab.output.renderOutput(dataTable, element);\n",
              "          const docLink = document.createElement('div');\n",
              "          docLink.innerHTML = docLinkHtml;\n",
              "          element.appendChild(docLink);\n",
              "        }\n",
              "      </script>\n",
              "    </div>\n",
              "  </div>\n",
              "  "
            ]
          },
          "metadata": {},
          "execution_count": 65
        }
      ]
    },
    {
      "cell_type": "code",
      "source": [
        "#printing the columns and rows in the dataset\n",
        "train_bike_share.shape"
      ],
      "metadata": {
        "colab": {
          "base_uri": "https://localhost:8080/"
        },
        "id": "6k1xbbJpkCsf",
        "outputId": "f4cf7691-086b-4775-947b-f81c86ad0602"
      },
      "execution_count": 7,
      "outputs": [
        {
          "output_type": "execute_result",
          "data": {
            "text/plain": [
              "(9174, 12)"
            ]
          },
          "metadata": {},
          "execution_count": 7
        }
      ]
    },
    {
      "cell_type": "code",
      "source": [
        "#checking the missing values if there is any\n",
        "train_bike_share.isna().sum()"
      ],
      "metadata": {
        "id": "taJgPgHzEPYQ",
        "colab": {
          "base_uri": "https://localhost:8080/"
        },
        "outputId": "8cdd12bb-39e7-47b6-f0f5-97a7c34a256d"
      },
      "execution_count": 9,
      "outputs": [
        {
          "output_type": "execute_result",
          "data": {
            "text/plain": [
              "datetime      0\n",
              "season        0\n",
              "holiday       0\n",
              "workingday    0\n",
              "weather       0\n",
              "temp          0\n",
              "atemp         0\n",
              "humidity      0\n",
              "windspeed     0\n",
              "casual        0\n",
              "registered    0\n",
              "count         0\n",
              "dtype: int64"
            ]
          },
          "metadata": {},
          "execution_count": 9
        }
      ]
    },
    {
      "cell_type": "code",
      "source": [
        "#printing the detailed information about columns and dtype\n",
        "train_bike_share.info()"
      ],
      "metadata": {
        "colab": {
          "base_uri": "https://localhost:8080/"
        },
        "id": "IW-Hp5seXTEx",
        "outputId": "9d729e34-4bbf-400d-e67e-7ae839bf6078"
      },
      "execution_count": 11,
      "outputs": [
        {
          "output_type": "stream",
          "name": "stdout",
          "text": [
            "<class 'pandas.core.frame.DataFrame'>\n",
            "RangeIndex: 9174 entries, 0 to 9173\n",
            "Data columns (total 12 columns):\n",
            " #   Column      Non-Null Count  Dtype         \n",
            "---  ------      --------------  -----         \n",
            " 0   datetime    9174 non-null   datetime64[ns]\n",
            " 1   season      9174 non-null   int64         \n",
            " 2   holiday     9174 non-null   int64         \n",
            " 3   workingday  9174 non-null   int64         \n",
            " 4   weather     9174 non-null   int64         \n",
            " 5   temp        9174 non-null   float64       \n",
            " 6   atemp       9174 non-null   float64       \n",
            " 7   humidity    9174 non-null   int64         \n",
            " 8   windspeed   9174 non-null   float64       \n",
            " 9   casual      9174 non-null   int64         \n",
            " 10  registered  9174 non-null   int64         \n",
            " 11  count       9174 non-null   int64         \n",
            "dtypes: datetime64[ns](1), float64(3), int64(8)\n",
            "memory usage: 860.2 KB\n"
          ]
        }
      ]
    },
    {
      "cell_type": "code",
      "source": [
        "#we are making the box plot based on the hour and count of users\n",
        "import seaborn as sns\n",
        "fig, ax = plt.subplots(figsize=(18, 5))\n",
        "sns.boxplot(x=train_bike_share['hour'], y=train_bike_share['count'], ax=ax)\n",
        "ax.set_ylabel('Count of Users')\n",
        "ax.set_title(\"Boxplot of Count grouped by hour\");"
      ],
      "metadata": {
        "colab": {
          "base_uri": "https://localhost:8080/",
          "height": 287
        },
        "id": "xHIEplYgXZMM",
        "outputId": "07a35ff5-68e9-4266-b440-faf0cd0c3de8"
      },
      "execution_count": 37,
      "outputs": [
        {
          "output_type": "display_data",
          "data": {
            "text/plain": [
              "<Figure size 1296x360 with 1 Axes>"
            ],
            "image/png": "[encoded data removed]"
          },
          "metadata": {}
        }
      ]
    },
    {
      "cell_type": "code",
      "source": [
        "#comparing the season and count and plotting the graph\n",
        "import matplotlib.pyplot as plt\n",
        "my_colors = [(x/10, x/150.0, 0.4) for x in range(5)]\n",
        "train_bike_share.groupby(\"season\")[\"count\"].mean().plot.bar(color =my_colors)"
      ],
      "metadata": {
        "colab": {
          "base_uri": "https://localhost:8080/",
          "height": 299
        },
        "id": "fUfh1kO2zeED",
        "outputId": "52d3bb23-7263-4961-cbe4-5edee037c979"
      },
      "execution_count": 35,
      "outputs": [
        {
          "output_type": "execute_result",
          "data": {
            "text/plain": [
              "<matplotlib.axes._subplots.AxesSubplot at 0x7f62b4722090>"
            ]
          },
          "metadata": {},
          "execution_count": 35
        },
        {
          "output_type": "display_data",
          "data": {
            "text/plain": [
              "<Figure size 432x288 with 1 Axes>"
            ],
            "image/png": "[encoded data removed]"
          },
          "metadata": {}
        }
      ]
    },
    {
      "cell_type": "code",
      "source": [
        "#plotting the graph and comparing with the month and count to better understand the data\n",
        "import seaborn as sns\n",
        "import matplotlib.pyplot as plt\n",
        "\n",
        "plt.figure(figsize=(5,5))\n",
        "train_bike_share.groupby([\"month\"])[\"count\"].sum().plot.bar()"
      ],
      "metadata": {
        "colab": {
          "base_uri": "https://localhost:8080/",
          "height": 361
        },
        "id": "XSih0THt0Gb6",
        "outputId": "d7d85806-94e1-4ac1-a241-a727487ff698"
      },
      "execution_count": 36,
      "outputs": [
        {
          "output_type": "execute_result",
          "data": {
            "text/plain": [
              "<matplotlib.axes._subplots.AxesSubplot at 0x7f62a5f35a10>"
            ]
          },
          "metadata": {},
          "execution_count": 36
        },
        {
          "output_type": "display_data",
          "data": {
            "text/plain": [
              "<Figure size 360x360 with 1 Axes>"
            ],
            "image/png": "[encoded data removed]"
          },
          "metadata": {}
        }
      ]
    },
    {
      "cell_type": "code",
      "source": [
        "#first,import the packages to perform the  \n",
        "import numpy as np\n",
        "from sklearn.model_selection import KFold\n",
        "from sklearn.metrics import mean_squared_error\n",
        "from sklearn import preprocessing\n",
        "from sklearn.model_selection import train_test_split\n",
        "#adding the extra features in the cols like hour,day,temp,weather,month\n",
        "cols = ['hour','day','temp','weather','month'] \n",
        "cols_t = train_bike_share[cols]\n",
        "count_pre = preprocessing.scale(cols_t) \n",
        "# we are using count column from the data to model the train and test set\n",
        "y_count = train_bike_share['count'].values\n",
        "pre_count = preprocessing.scale(y_count) \n",
        "w_sc = train_bike_share['casual'].values\n",
        "w_pre= preprocessing.scale(w_sc)\n",
        "z_share = train_bike_share['registered'].values\n",
        "z_preprosing = preprocessing.scale(z_share)\n",
        "#we are splitting the data into train and test data in train dataset\n",
        "X_training,X_testing,y_training,y_testing = train_test_split(count_pre,pre_count,test_size=0.2,random_state=0)\n",
        "X_train_casnon,X_test_casnon,w_trainset,w_testset = train_test_split(count_pre,w_pre,test_size=0.2,random_state=0)\n",
        "X_train_regis,X_test_regis,z_trainset,z_testset = train_test_split(count_pre,z_preprosing,test_size=0.2,random_state=0)"
      ],
      "metadata": {
        "id": "syMdFklLHhFW"
      },
      "execution_count": 49,
      "outputs": []
    },
    {
      "cell_type": "code",
      "source": [
        "from sklearn.model_selection import GridSearchCV\n",
        "from sklearn.ensemble import RandomForestRegressor\n",
        "# Create the parameter grid based on the results of random search \n",
        "param_grid = {\n",
        "    'bootstrap': [True],\n",
        "    'max_depth': [80, 90, 100, 110],\n",
        "    'max_features': [2, 3],\n",
        "    'min_samples_leaf': [3, 4, 5],\n",
        "    'min_samples_split': [8, 10, 12],\n",
        "    'n_estimators': [100, 200, 500, 1000]\n",
        "}\n",
        "# Creating a model \n",
        "pre_model = RandomForestRegressor()\n",
        "# initiating the gridsearch model to predict the randomregression model\n",
        "grid_mod = GridSearchCV(estimator = pre_model, param_grid = param_grid, \n",
        "                          cv = 2, n_jobs = -1, verbose = 2)\n",
        "grid_mod.fit(X_training, y_training)\n",
        "grid_mod.best_params_"
      ],
      "metadata": {
        "colab": {
          "base_uri": "https://localhost:8080/"
        },
        "id": "vfN2KzPD1gDS",
        "outputId": "04221d68-1050-4b9f-9c9a-f636361465d4"
      },
      "execution_count": 50,
      "outputs": [
        {
          "output_type": "stream",
          "name": "stdout",
          "text": [
            "Fitting 2 folds for each of 288 candidates, totalling 576 fits\n"
          ]
        },
        {
          "output_type": "execute_result",
          "data": {
            "text/plain": [
              "{'bootstrap': True,\n",
              " 'max_depth': 110,\n",
              " 'max_features': 3,\n",
              " 'min_samples_leaf': 3,\n",
              " 'min_samples_split': 8,\n",
              " 'n_estimators': 100}"
            ]
          },
          "metadata": {},
          "execution_count": 50
        }
      ]
    },
    {
      "cell_type": "code",
      "source": [
        "#importing the packages and using Random forest regression model\n",
        "from sklearn.ensemble import RandomForestRegressor\n",
        "predict_model= RandomForestRegressor(max_depth=110,n_estimators = 100 )\n",
        "print(\"Adding extra features to predict the model:\",cols)\n",
        "print(predict_model) # to get an idea of parameters and confirm model chosen"
      ],
      "metadata": {
        "colab": {
          "base_uri": "https://localhost:8080/"
        },
        "id": "3jJH5WMSEVmL",
        "outputId": "01d7f255-6e6f-48da-f990-1c7d5d4cc1bb"
      },
      "execution_count": 75,
      "outputs": [
        {
          "output_type": "stream",
          "name": "stdout",
          "text": [
            "Adding extra features to predict the model: ['hour', 'day', 'temp', 'weather', 'month']\n",
            "RandomForestRegressor(max_depth=110)\n"
          ]
        }
      ]
    },
    {
      "cell_type": "code",
      "source": [
        "# fitting the model with the subset of training of original training data\n",
        "predict_model.fit(X_training, y_training)\n",
        "predict_model.fit(X_train_casnon, w_trainset)\n",
        "predict_model.fit(X_train_regis, z_trainset)\n",
        "ct_predict = predict_model.predict(X_testing)\n",
        "\n",
        "#importing the packages using sklearn to predict the rms value and random regression\n",
        "from sklearn.model_selection import cross_val_score\n",
        "from sklearn.metrics import mean_squared_error\n",
        "from sklearn.ensemble import RandomForestRegressor\n",
        "#creating the logic to find the rms error value using predict count and the y testing\n",
        "rms_error = np.sqrt(mean_squared_error(y_testing,ct_predict))\n",
        "print(\"The Root Mean Square error:\",rms_error)\n",
        "#plotting the scatter to better understand the data and analyze\n",
        "plt.scatter(y_testing,ct_predict,c='yellow')\n",
        "plt.show()"
      ],
      "metadata": {
        "colab": {
          "base_uri": "https://localhost:8080/",
          "height": 285
        },
        "id": "FkENs7CnB-Gf",
        "outputId": "a6bcba74-e203-4d88-8381-c6fe667545d8"
      },
      "execution_count": 61,
      "outputs": [
        {
          "output_type": "stream",
          "name": "stdout",
          "text": [
            "The Root Mean Square error: 0.5718021504532891\n"
          ]
        },
        {
          "output_type": "display_data",
          "data": {
            "text/plain": [
              "<Figure size 432x288 with 1 Axes>"
            ],
            "image/png": "[encoded data removed]"
          },
          "metadata": {}
        }
      ]
    },
    {
      "cell_type": "code",
      "source": [
        "#here, we are loading the test data and the sample output data\n",
        "import pandas as pd\n",
        "test_bike_share = pd.read_csv('/content/test_luc.csv', header=0)\n",
        "sample_df=pd.read_csv('/content/sample_output (1).csv')\n",
        "#we are finding the samples and features by taking the test data\n",
        "print(\"\\n The Number of samples:\",test_bike_share.shape[0])\n",
        "print(\"\\n The Number of features: \",test_bike_share.shape[1])\n",
        "\n",
        "# we are adding the new feature into the test data, to use it in prediction\n",
        "\n",
        "test_bike_share['datetime']=pd.to_datetime(train_bike_share.datetime)\n",
        "\n",
        "test_bike_share['hour'] = test_bike_share['datetime'].dt.hour\n",
        "test_bike_share['day'] = test_bike_share['datetime'].dt.day\n",
        "test_bike_share['month'] = test_bike_share['datetime'].dt.month\n",
        "# print the test data output to be perfect to read in correctly and added the column\n",
        "test_bike_share.head()\n",
        "\n",
        "# we are fitting the tarin data to best fit the model\n",
        "predict_model.fit( train_bike_share[cols], train_bike_share['count'])\n",
        "predict_model.fit(train_bike_share[cols], train_bike_share['casual'])\n",
        "predict_model.fit(train_bike_share[cols], train_bike_share['registered'])\n",
        "\n",
        "# applying to the test data \n",
        "# (not the \"test set\" you used for model selection and tuning)\n",
        "pred_count = predict_model.predict(test_bike_share[cols])\n",
        "casual_count=predict_model.predict(test_bike_share[cols])\n",
        "registered_count=predict_model.predict(test_bike_share[cols])\n",
        "\n",
        "\n",
        "# add the prediction column (in case you want to inspect it later)\n",
        "test_bike_share['casual']=casual_count\n",
        "test_bike_share['registered']=registered_count\n",
        "test_bike_share['count'] = pred_count\n",
        "test_bike_share['added_predict_count']=test_bike_share['casual']+test_bike_share['registered']\n",
        "\n",
        "print(test_bike_share)\n",
        "\n",
        "rmserror_value = np.sqrt(mean_squared_error(sample_df['count'],test_bike_share['count']))\n",
        "print(\"The RMS error:\",rmserror_value)\n",
        "\n",
        "rms_by_adding=np.sqrt(mean_squared_error(sample_df['count'],test_bike_share['added_predict_count']))\n",
        "print(\"The RMS error taken by adding:\",rms_by_adding)\n",
        "\n",
        "normalized_rmse_value=rmserror_value/(test_bike_share['count'].max()-test_bike_share['count'].min())\n",
        "print(\"The normalized_rmse is :\", normalized_rmse_value)\n",
        "\n",
        "# save the predicted count as a csv with a header column and datetime row\n",
        "test_bike_share = test_bike_share[['datetime','count']].to_csv('predict_output.csv', \n",
        "    index=False, header=True)\n",
        "\n",
        "print(\"Prediction completed. Save as predict_output.csv\")"
      ],
      "metadata": {
        "colab": {
          "base_uri": "https://localhost:8080/"
        },
        "id": "E_5e-au9dn7q",
        "outputId": "a9a7fbcf-c6e3-49ef-e40d-2f38afd1b3c8"
      },
      "execution_count": 73,
      "outputs": [
        {
          "output_type": "stream",
          "name": "stdout",
          "text": [
            "\n",
            " The Number of samples: 1712\n",
            "\n",
            " The Number of features:  9\n",
            "                datetime  season  holiday  workingday  weather   temp   atemp  \\\n",
            "0    2011-01-01 00:00:00       1        1           0        2   8.20   9.850   \n",
            "1    2011-01-01 01:00:00       1        1           0        2   8.20   9.850   \n",
            "2    2011-01-01 02:00:00       1        1           0        2   7.38   8.335   \n",
            "3    2011-01-01 03:00:00       1        1           0        2   7.38   9.090   \n",
            "4    2011-01-01 04:00:00       1        1           0        2   7.38   9.850   \n",
            "...                  ...     ...      ...         ...      ...    ...     ...   \n",
            "1707 2011-05-09 11:00:00       4        0           1        1  15.58  19.695   \n",
            "1708 2011-05-09 12:00:00       4        0           1        1  14.76  17.425   \n",
            "1709 2011-05-09 13:00:00       4        0           1        1  13.94  15.910   \n",
            "1710 2011-05-09 14:00:00       4        0           1        1  13.94  17.425   \n",
            "1711 2011-05-09 15:00:00       4        0           1        1  13.12  16.665   \n",
            "\n",
            "      humidity  windspeed  hour  day  month      casual  registered  \\\n",
            "0           47    15.0013     0    1      1   11.905000   11.905000   \n",
            "1           44    12.9980     1    1      1   16.360000   16.360000   \n",
            "2           43    16.9979     2    1      1   15.050000   15.050000   \n",
            "3           43    12.9980     3    1      1    6.026667    6.026667   \n",
            "4           43     8.9981     4    1      1    3.352667    3.352667   \n",
            "...        ...        ...   ...  ...    ...         ...         ...   \n",
            "1707        50    26.0027    11    9      5  133.460000  133.460000   \n",
            "1708        57    15.0013    12    9      5  156.530000  156.530000   \n",
            "1709        61    15.0013    13    9      5  146.700000  146.700000   \n",
            "1710        61     6.0032    14    9      5  133.520000  133.520000   \n",
            "1711        66     8.9981    15    9      5  140.550000  140.550000   \n",
            "\n",
            "           count  added_predict_count  \n",
            "0      11.905000            23.810000  \n",
            "1      16.360000            32.720000  \n",
            "2      15.050000            30.100000  \n",
            "3       6.026667            12.053333  \n",
            "4       3.352667             6.705333  \n",
            "...          ...                  ...  \n",
            "1707  133.460000           266.920000  \n",
            "1708  156.530000           313.060000  \n",
            "1709  146.700000           293.400000  \n",
            "1710  133.520000           267.040000  \n",
            "1711  140.550000           281.100000  \n",
            "\n",
            "[1712 rows x 16 columns]\n",
            "The RMS error: 182.30177680190755\n",
            "The RMS error taken by adding: 288.82457482435933\n",
            "The normalized_rmse is : 0.29383607363061726\n",
            "Prediction completed. Save as predict_output.csv\n"
          ]
        }
      ]
    }
  ],
  "metadata": {
    "kernelspec": {
      "display_name": "Python 3",
      "language": "python",
      "name": "python3"
    },
    "language_info": {
      "codemirror_mode": {
        "name": "ipython",
        "version": 3
      },
      "file_extension": ".py",
      "mimetype": "text/x-python",
      "name": "python",
      "nbconvert_exporter": "python",
      "pygments_lexer": "ipython3",
      "version": "3.8.5"
    },
    "colab": {
      "name": "lab_assignment_06.ipynb",
      "provenance": [],
      "collapsed_sections": [],
      "include_colab_link": true
    }
  },
  "nbformat": 4,
  "nbformat_minor": 0
}